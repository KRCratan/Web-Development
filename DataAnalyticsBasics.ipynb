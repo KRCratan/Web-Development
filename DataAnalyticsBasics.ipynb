{
  "nbformat": 4,
  "nbformat_minor": 0,
  "metadata": {
    "colab": {
      "provenance": [],
      "toc_visible": true,
      "authorship_tag": "ABX9TyMBwtvqnfzlBfBrPCFMmNKk",
      "include_colab_link": true
    },
    "kernelspec": {
      "name": "python3",
      "display_name": "Python 3"
    },
    "language_info": {
      "name": "python"
    }
  },
  "cells": [
    {
      "cell_type": "markdown",
      "metadata": {
        "id": "view-in-github",
        "colab_type": "text"
      },
      "source": [
        "<a href=\"https://colab.research.google.com/github/KRCratan/Web-Development/blob/main/DataAnalyticsBasics.ipynb\" target=\"_parent\"><img src=\"https://colab.research.google.com/assets/colab-badge.svg\" alt=\"Open In Colab\"/></a>"
      ]
    },
    {
      "cell_type": "code",
      "execution_count": 2,
      "metadata": {
        "colab": {
          "base_uri": "https://localhost:8080/"
        },
        "id": "GKzOtAbbS710",
        "outputId": "eda73db9-8740-4226-b23f-66515d1c06d9"
      },
      "outputs": [
        {
          "output_type": "stream",
          "name": "stdout",
          "text": [
            "Size of an array: 6\n",
            "Mean value is  17.333333333333332\n",
            "Sum of Elements: 104\n"
          ]
        }
      ],
      "source": [
        "import numpy as np\n",
        "\n",
        "arr10 = np.array([13,24,22,15,3,27])\n",
        "\n",
        "#Return the size of array\n",
        "print(\"Size of an array:\", arr10.size)\n",
        "\n",
        "#calculating mean using mean() function\n",
        "mean_val = np.mean(arr10)\n",
        "print(\"Mean value is \", arr10.mean())\n",
        "\n",
        "#Calculating sum of array elements\n",
        "sum_val = np.sum(arr10)\n",
        "print(\"Sum of Elements:\", arr10.sum())\n"
      ]
    },
    {
      "cell_type": "markdown",
      "source": [
        "**MEDIAN**"
      ],
      "metadata": {
        "id": "hxPWrbokU05F"
      }
    },
    {
      "cell_type": "code",
      "source": [
        "#calculating  median using user-defined median() function\n",
        "Sorted = np.sort(arr10)\n",
        "print(\"Sorted (ascending):\", Sorted )\n",
        "\n",
        "rem = Sorted.size % 2\n",
        "if rem == 0:\n",
        "  idx = Sorted.size // 2\n",
        "  Median_val = (Sorted[idx] + Sorted[idx+1]) / 2\n",
        "else:\n",
        "   idx = Sorted.size // 2\n",
        "   print(\"Index\",idx)\n",
        "   Median_val = (Sorted[idx])\n",
        "   idx1 = Sorted.size / 2\n",
        "   print(\"Index 1\", idx1)\n",
        "   print(\"Median is : \", Median_val)"
      ],
      "metadata": {
        "colab": {
          "base_uri": "https://localhost:8080/"
        },
        "id": "H-2sxl3rU4Ya",
        "outputId": "2912bd68-489f-437f-f75f-348bc5e7b9d5"
      },
      "execution_count": 5,
      "outputs": [
        {
          "output_type": "stream",
          "name": "stdout",
          "text": [
            "Sorted (ascending): [ 3 13 15 22 24 27]\n"
          ]
        }
      ]
    }
  ]
}